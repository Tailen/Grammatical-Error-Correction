{
 "cells": [
  {
   "attachments": {},
   "cell_type": "markdown",
   "metadata": {},
   "source": [
    "## Inspect Error Tag Distributions of GEC Datasets"
   ]
  },
  {
   "cell_type": "code",
   "execution_count": 1,
   "metadata": {},
   "outputs": [],
   "source": [
    "import os"
   ]
  },
  {
   "cell_type": "markdown",
   "metadata": {},
   "source": [
    "### BEA19"
   ]
  },
  {
   "cell_type": "code",
   "execution_count": 2,
   "metadata": {},
   "outputs": [
    {
     "name": "stdout",
     "output_type": "stream",
     "text": [
      "{'ADJ': 0, 'ADJ:FORM': 0, 'ADV': 0, 'CONJ': 0, 'CONTR': 0, 'DET': 0, 'K': 0, 'MORPH': 0, 'NOUN': 0, 'NOUN:INFL': 0, 'NOUN:NUM': 0, 'NOUN:POSS': 0, 'ORTH': 0, 'OTHER': 0, 'PART': 0, 'PREP': 0, 'PRON': 0, 'PUNCT': 0, 'SPELL': 0, 'VERB': 0, 'VERB:FORM': 0, 'VERB:INFL': 0, 'VERB:SVA': 0, 'VERB:TENSE': 0, 'WO': 0, 'noop': 0}\n"
     ]
    }
   ],
   "source": [
    "DATA_DIR = \"datasets_train/wi+locness/m2/\"\n",
    "tag_list = [\"ADJ\",\"ADJ:FORM\",\"ADV\",\"CONJ\",\"CONTR\",\"DET\",\"K\",\"MORPH\",\"NOUN\",\"NOUN:INFL\",\"NOUN:NUM\",\"NOUN:POSS\",\"ORTH\",\"OTHER\",\"PART\",\"PREP\",\"PRON\",\"PUNCT\",\"SPELL\",\"VERB\",\"VERB:FORM\",\"VERB:INFL\",\"VERB:SVA\",\"VERB:TENSE\",\"WO\"]\n",
    "tag_count_dict = dict.fromkeys(tag_list, 0)\n",
    "tag_count_dict[\"noop\"] = 0\n",
    "print(tag_count_dict)"
   ]
  },
  {
   "cell_type": "code",
   "execution_count": 3,
   "metadata": {},
   "outputs": [],
   "source": [
    "def parse_error_tags(filepath):\n",
    "    with open(filepath, \"r\") as f:\n",
    "        for line in f:\n",
    "            if line.startswith('A'):\n",
    "                error_tag = line.split('|||')[1]\n",
    "                if error_tag != \"noop\":\n",
    "                    tag_count_dict[error_tag[2:]] += 1\n",
    "                else:\n",
    "                    tag_count_dict[\"noop\"] += 1"
   ]
  },
  {
   "cell_type": "code",
   "execution_count": 4,
   "metadata": {},
   "outputs": [
    {
     "name": "stdout",
     "output_type": "stream",
     "text": [
      "{'ADJ': 2164, 'ADJ:FORM': 338, 'ADV': 2152, 'CONJ': 736, 'CONTR': 440, 'DET': 15922, 'K': 3640, 'MORPH': 2674, 'NOUN': 6208, 'NOUN:INFL': 176, 'NOUN:NUM': 5662, 'NOUN:POSS': 892, 'ORTH': 6782, 'OTHER': 18214, 'PART': 1194, 'PREP': 13946, 'PRON': 3712, 'PUNCT': 24814, 'SPELL': 5542, 'VERB': 8270, 'VERB:FORM': 5008, 'VERB:INFL': 64, 'VERB:SVA': 3136, 'VERB:TENSE': 8672, 'WO': 2272, 'noop': 25582}\n"
     ]
    }
   ],
   "source": [
    "for file in os.listdir(DATA_DIR):\n",
    "    filepath = os.path.join(DATA_DIR, file)\n",
    "    parse_error_tags(filepath)\n",
    "print(tag_count_dict)"
   ]
  },
  {
   "cell_type": "code",
   "execution_count": 5,
   "metadata": {},
   "outputs": [
    {
     "name": "stdout",
     "output_type": "stream",
     "text": [
      "{'ADJ': 0.012864718331629135, 'ADJ:FORM': 0.0020093691294319075, 'ADV': 0.01279337978265522, 'CONJ': 0.004375431003733384, 'CONTR': 0.0026157467957101752, 'DET': 0.09465436473022139, 'K': 0.02163935985542054, 'MORPH': 0.015896606663020472, 'NOUN': 0.03690580933583811, 'NOUN:INFL': 0.00104629871828407, 'NOUN:NUM': 0.03365990535752503, 'NOUN:POSS': 0.005302832140394264, 'ORTH': 0.04031816992842366, 'OTHER': 0.10828002758423894, 'PART': 0.00709818562290443, 'PREP': 0.08290728366585023, 'PRON': 0.022067391149264023, 'PUNCT': 0.14751622951989157, 'SPELL': 0.03294651986778589, 'VERB': 0.049164150001188976, 'VERB:FORM': 0.029771954438446723, 'VERB:INFL': 0.0003804722611942073, 'VERB:SVA': 0.01864314079851616, 'VERB:TENSE': 0.05155399139181509, 'WO': 0.01350676527239436, 'noop': 0.15208189665422206}\n"
     ]
    }
   ],
   "source": [
    "# calculate probability of each tag\n",
    "tag_prob_dict = dict.fromkeys(tag_list, 0.0)\n",
    "tag_prob_dict[\"noop\"] = 0.0\n",
    "tag_count_sum = sum(tag_count_dict.values())\n",
    "for tag in tag_count_dict.keys():\n",
    "    tag_prob_dict[tag] = tag_count_dict[tag] / tag_count_sum\n",
    "print(tag_prob_dict)\n"
   ]
  },
  {
   "cell_type": "code",
   "execution_count": 6,
   "metadata": {},
   "outputs": [
    {
     "name": "stdout",
     "output_type": "stream",
     "text": [
      "{'ADJ': 0.014653665623936019, 'ADJ:FORM': 0.0022887888081748495, 'ADV': 0.01457240684968129, 'CONJ': 0.004983871487623341, 'CONTR': 0.002979488389340041, 'DET': 0.10781685030698211, 'K': 0.024648494857267608, 'MORPH': 0.018107163529761973, 'NOUN': 0.042037872547779485, 'NOUN:INFL': 0.0011917953557360162, 'NOUN:NUM': 0.03834059831918934, 'NOUN:POSS': 0.00604023555293481, 'ORTH': 0.045924750582964, 'OTHER': 0.12333727618963523, 'PART': 0.008085248038345474, 'PREP': 0.09443623881303684, 'PRON': 0.02513604750279598, 'PUNCT': 0.16802960202973585, 'SPELL': 0.03752801057664206, 'VERB': 0.056000838590550314, 'VERB:FORM': 0.033911995122306644, 'VERB:INFL': 0.00043338012935855135, 'VERB:SVA': 0.021235626338569017, 'VERB:TENSE': 0.05872300752808371, 'WO': 0.015384994592228574, 'noop': 0.034171752337340926}\n"
     ]
    }
   ],
   "source": [
    "# Make probability of noop much lower since\n",
    "# 1) Empirically it hurts recall a lot more than boost in precision\n",
    "# 2) We preprocess out very short sentences, which are mostly noop, so the current probability is inflated\n",
    "tag_prob_dict[\"noop\"] = 0.03\n",
    "# Re-normalize the distribution\n",
    "tag_prob_sum = sum(tag_prob_dict.values())\n",
    "for tag in tag_prob_dict.keys():\n",
    "    tag_prob_dict[tag] /= tag_prob_sum\n",
    "print(tag_prob_dict)"
   ]
  },
  {
   "attachments": {},
   "cell_type": "markdown",
   "metadata": {},
   "source": [
    "### Check Error Tag Distribution of C4_200M After Filtering"
   ]
  },
  {
   "cell_type": "code",
   "execution_count": 7,
   "metadata": {},
   "outputs": [],
   "source": [
    "from collections import defaultdict"
   ]
  },
  {
   "cell_type": "code",
   "execution_count": 8,
   "metadata": {},
   "outputs": [],
   "source": [
    "def pretty_print_dist(d, target, decimals=4):\n",
    "    total_error = 0\n",
    "    for key, value in d.items():\n",
    "        total_error += abs(target[key]-value)\n",
    "        print(f\"{key}:\\t{value:.{decimals}f}\\t{(target[key]-value):.{decimals}f}\")\n",
    "    print(f\"Total error: {total_error:.{decimals}f}\")\n",
    "\n",
    "def get_distribution(tags, target, decimals=4):\n",
    "    dist = defaultdict(int)\n",
    "    for _, tag_set in tags:\n",
    "        for tag in tag_set:\n",
    "            dist[tag] += 1\n",
    "    total_tags = sum(dist.values())\n",
    "    dist = {tag: count / total_tags for tag, count in dist.items()}\n",
    "    pretty_print_dist(dist, target, decimals)\n",
    "    return dist"
   ]
  },
  {
   "cell_type": "code",
   "execution_count": 9,
   "metadata": {},
   "outputs": [],
   "source": [
    "target_dist = { 'ADJ': 0.012864718331629135, \n",
    "                'ADJ:FORM': 0.0020093691294319075, \n",
    "                'ADV': 0.01279337978265522, \n",
    "                'CONJ': 0.004375431003733384, \n",
    "                'CONTR': 0.0026157467957101752, \n",
    "                'DET': 0.09465436473022139, \n",
    "                'K': 0.02163935985542054, \n",
    "                'MORPH': 0.015896606663020472, \n",
    "                'NOUN': 0.03690580933583811, \n",
    "                'NOUN:INFL': 0.00104629871828407, \n",
    "                'NOUN:NUM': 0.03365990535752503, \n",
    "                'NOUN:POSS': 0.005302832140394264, \n",
    "                'ORTH': 0.04031816992842366, \n",
    "                'OTHER': 0.10828002758423894, \n",
    "                'PART': 0.00709818562290443, \n",
    "                'PREP': 0.08290728366585023, \n",
    "                'PRON': 0.022067391149264023, \n",
    "                'PUNCT': 0.14751622951989157, \n",
    "                'SPELL': 0.03294651986778589, \n",
    "                'VERB': 0.049164150001188976, \n",
    "                'VERB:FORM': 0.029771954438446723, \n",
    "                'VERB:INFL': 0.0003804722611942073, \n",
    "                'VERB:SVA': 0.01864314079851616, \n",
    "                'VERB:TENSE': 0.05155399139181509, \n",
    "                'WO': 0.01350676527239436, \n",
    "                'SPACE': 0.0,\n",
    "                'noop': 0.15208189665422206\n",
    "                }"
   ]
  },
  {
   "cell_type": "code",
   "execution_count": 10,
   "metadata": {},
   "outputs": [
    {
     "name": "stdout",
     "output_type": "stream",
     "text": [
      "noop:\t0.0887\t0.0634\n",
      "NOUN:\t0.0711\t-0.0342\n",
      "OTHER:\t0.1871\t-0.0788\n",
      "PUNCT:\t0.1235\t0.0241\n",
      "PREP:\t0.0834\t-0.0005\n",
      "ADV:\t0.0153\t-0.0025\n",
      "VERB:TENSE:\t0.0331\t0.0185\n",
      "NOUN:NUM:\t0.0374\t-0.0037\n",
      "ORTH:\t0.0543\t-0.0140\n",
      "VERB:\t0.0505\t-0.0014\n",
      "SPELL:\t0.0615\t-0.0285\n",
      "NOUN:POSS:\t0.0071\t-0.0018\n",
      "DET:\t0.0710\t0.0237\n",
      "MORPH:\t0.0209\t-0.0051\n",
      "PRON:\t0.0154\t0.0067\n",
      "CONJ:\t0.0068\t-0.0025\n",
      "WO:\t0.0092\t0.0043\n",
      "ADJ:\t0.0137\t-0.0008\n",
      "NOUN:INFL:\t0.0033\t-0.0022\n",
      "VERB:FORM:\t0.0237\t0.0061\n",
      "PART:\t0.0057\t0.0014\n",
      "VERB:SVA:\t0.0122\t0.0064\n",
      "VERB:INFL:\t0.0010\t-0.0006\n",
      "ADJ:FORM:\t0.0010\t0.0010\n",
      "CONTR:\t0.0023\t0.0003\n",
      "SPACE:\t0.0006\t-0.0006\n",
      "K:\t0.0003\t0.0213\n",
      "Total error: 0.3544\n"
     ]
    },
    {
     "data": {
      "text/plain": [
       "{'noop': 0.08869236428068565,\n",
       " 'NOUN': 0.07113804095903306,\n",
       " 'OTHER': 0.1871121693205399,\n",
       " 'PUNCT': 0.12346298156658941,\n",
       " 'PREP': 0.0833914733281126,\n",
       " 'ADV': 0.01526511046599008,\n",
       " 'VERB:TENSE': 0.0331015643745534,\n",
       " 'NOUN:NUM': 0.03740840643679616,\n",
       " 'ORTH': 0.054333077570090996,\n",
       " 'VERB': 0.05052299627956768,\n",
       " 'SPELL': 0.06147810060196648,\n",
       " 'NOUN:POSS': 0.007059592835465133,\n",
       " 'DET': 0.07096928995377805,\n",
       " 'MORPH': 0.020948855261735445,\n",
       " 'PRON': 0.015354759437531805,\n",
       " 'CONJ': 0.00683810714106793,\n",
       " 'WO': 0.009156851422650077,\n",
       " 'ADJ': 0.013666194691198844,\n",
       " 'NOUN:INFL': 0.0032753515426214943,\n",
       " 'VERB:FORM': 0.023658363589861228,\n",
       " 'PART': 0.0057138035685564146,\n",
       " 'VERB:SVA': 0.012234975227879776,\n",
       " 'VERB:INFL': 0.0009961582778959914,\n",
       " 'ADJ:FORM': 0.0009845566462847093,\n",
       " 'CONTR': 0.0023103067313193955,\n",
       " 'SPACE': 0.0006280701476834969,\n",
       " 'K': 0.00029847834054480207}"
      ]
     },
     "execution_count": 10,
     "metadata": {},
     "output_type": "execute_result"
    }
   ],
   "source": [
    "tag_path = \"/media/tailen/My Passport/c4200m/val_12M_incorrectly_filtered_tags.tsv\"\n",
    "with open(tag_path, \"r\") as f:\n",
    "    lines = f.readlines()\n",
    "tags = [line.strip().split(\"\\t\") for line in lines]\n",
    "tags = [[\"noop\"] if len(tag_set)==1 and tag_set[0]==\"\" else tag_set for tag_set in tags]\n",
    "tags = list(enumerate(tags))\n",
    "get_distribution(tags, target_dist)"
   ]
  },
  {
   "attachments": {},
   "cell_type": "markdown",
   "metadata": {},
   "source": [
    "# Wrong Distribution!!!"
   ]
  },
  {
   "attachments": {},
   "cell_type": "markdown",
   "metadata": {},
   "source": [
    "### Check Distribution After Tag Extraction Bug Fix"
   ]
  },
  {
   "cell_type": "code",
   "execution_count": 11,
   "metadata": {},
   "outputs": [],
   "source": [
    "target_dist = { 'ADJ': 0.014653665623936019, \n",
    "                'ADJ:FORM': 0.0022887888081748495, \n",
    "                'ADV': 0.01457240684968129, \n",
    "                'CONJ': 0.004983871487623341, \n",
    "                'CONTR': 0.002979488389340041, \n",
    "                'DET': 0.10781685030698211, \n",
    "                'K': 0.024648494857267608, \n",
    "                'MORPH': 0.018107163529761973, \n",
    "                'NOUN': 0.042037872547779485, \n",
    "                'NOUN:INFL': 0.0011917953557360162, \n",
    "                'NOUN:NUM': 0.03834059831918934, \n",
    "                'NOUN:POSS': 0.00604023555293481, \n",
    "                'ORTH': 0.045924750582964, \n",
    "                'OTHER': 0.12333727618963523, \n",
    "                'PART': 0.008085248038345474, \n",
    "                'PREP': 0.09443623881303684, \n",
    "                'PRON': 0.02513604750279598, \n",
    "                'PUNCT': 0.16802960202973585, \n",
    "                'SPELL': 0.03752801057664206, \n",
    "                'VERB': 0.056000838590550314, \n",
    "                'VERB:FORM': 0.033911995122306644, \n",
    "                'VERB:INFL': 0.00043338012935855135, \n",
    "                'VERB:SVA': 0.021235626338569017, \n",
    "                'VERB:TENSE': 0.05872300752808371, \n",
    "                'WO': 0.015384994592228574, \n",
    "                'SPACE': 0.0, \n",
    "                'noop': 0.034171752337340926\n",
    "                }"
   ]
  },
  {
   "cell_type": "code",
   "execution_count": 12,
   "metadata": {},
   "outputs": [
    {
     "name": "stdout",
     "output_type": "stream",
     "text": [
      "PUNCT:\t0.1615\t0.0065\n",
      "VERB:TENSE:\t0.0590\t-0.0002\n",
      "SPELL:\t0.0414\t-0.0039\n",
      "PREP:\t0.1016\t-0.0072\n",
      "DET:\t0.1134\t-0.0056\n",
      "VERB:\t0.0595\t-0.0035\n",
      "WO:\t0.0151\t0.0003\n",
      "ORTH:\t0.0451\t0.0008\n",
      "VERB:FORM:\t0.0376\t-0.0037\n",
      "NOUN:\t0.0480\t-0.0060\n",
      "OTHER:\t0.1259\t-0.0026\n",
      "NOUN:NUM:\t0.0434\t-0.0050\n",
      "VERB:SVA:\t0.0207\t0.0005\n",
      "PART:\t0.0091\t-0.0010\n",
      "MORPH:\t0.0228\t-0.0047\n",
      "CONTR:\t0.0037\t-0.0007\n",
      "ADV:\t0.0180\t-0.0035\n",
      "PRON:\t0.0261\t-0.0009\n",
      "ADJ:\t0.0179\t-0.0033\n",
      "NOUN:POSS:\t0.0096\t-0.0036\n",
      "NOUN:INFL:\t0.0045\t-0.0033\n",
      "CONJ:\t0.0087\t-0.0037\n",
      "noop:\t0.0026\t0.0315\n",
      "ADJ:FORM:\t0.0016\t0.0007\n",
      "VERB:INFL:\t0.0016\t-0.0011\n",
      "K:\t0.0005\t0.0241\n",
      "SPACE:\t0.0009\t-0.0009\n",
      "Total error: 0.1288\n"
     ]
    },
    {
     "data": {
      "text/plain": [
       "{'PUNCT': 0.16154378217133689,\n",
       " 'VERB:TENSE': 0.058956627148458715,\n",
       " 'SPELL': 0.04141206630557498,\n",
       " 'PREP': 0.10164202832652858,\n",
       " 'DET': 0.11344106523772288,\n",
       " 'VERB': 0.05952182231712151,\n",
       " 'WO': 0.015112622895858793,\n",
       " 'ORTH': 0.045147432711446236,\n",
       " 'VERB:FORM': 0.03762826803416939,\n",
       " 'NOUN': 0.04801196596227299,\n",
       " 'OTHER': 0.12592708229984592,\n",
       " 'NOUN:NUM': 0.04338460684845387,\n",
       " 'VERB:SVA': 0.02074482566644363,\n",
       " 'PART': 0.009112714117042422,\n",
       " 'MORPH': 0.022769089560864042,\n",
       " 'CONTR': 0.003727843009283401,\n",
       " 'ADV': 0.01804439650368952,\n",
       " 'PRON': 0.026081735120955057,\n",
       " 'ADJ': 0.017905213666814156,\n",
       " 'NOUN:POSS': 0.00960173489525316,\n",
       " 'NOUN:INFL': 0.00446607629946692,\n",
       " 'CONJ': 0.008673065628939497,\n",
       " 'noop': 0.0026350696548970965,\n",
       " 'ADJ:FORM': 0.0015653367025611053,\n",
       " 'VERB:INFL': 0.0015700388254285163,\n",
       " 'K': 0.0005224058505693566,\n",
       " 'SPACE': 0.0008510842390013819}"
      ]
     },
     "execution_count": 12,
     "metadata": {},
     "output_type": "execute_result"
    }
   ],
   "source": [
    "tag_path = \"/media/tailen/My Passport/c4200m/val_10M_filtered_tags.tsv\"\n",
    "with open(tag_path, \"r\") as f:\n",
    "    lines = f.readlines()\n",
    "tags = [line.strip().split(\"\\t\") for line in lines]\n",
    "tags = [[\"noop\"] if len(tag_set)==1 and tag_set[0]==\"\" else tag_set for tag_set in tags]\n",
    "tags = list(enumerate(tags))\n",
    "get_distribution(tags, target_dist)"
   ]
  }
 ],
 "metadata": {
  "kernelspec": {
   "display_name": "torch_env",
   "language": "python",
   "name": "python3"
  },
  "language_info": {
   "codemirror_mode": {
    "name": "ipython",
    "version": 3
   },
   "file_extension": ".py",
   "mimetype": "text/x-python",
   "name": "python",
   "nbconvert_exporter": "python",
   "pygments_lexer": "ipython3",
   "version": "3.9.13"
  },
  "orig_nbformat": 4
 },
 "nbformat": 4,
 "nbformat_minor": 2
}
